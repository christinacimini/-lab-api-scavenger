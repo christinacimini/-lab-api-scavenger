{
 "cells": [
  {
   "cell_type": "markdown",
   "metadata": {},
   "source": [
    "Challenge 1"
   ]
  },
  {
   "cell_type": "code",
   "execution_count": 18,
   "metadata": {},
   "outputs": [],
   "source": [
    "import requests\n",
    "import os\n",
    "from dotenv import load_dotenv, find_dotenv\n",
    "from datetime import datetime, timedelta"
   ]
  },
  {
   "cell_type": "code",
   "execution_count": 1,
   "metadata": {},
   "outputs": [],
   "source": [
    "main_repo = 'ironhack-datalabs/bcn-feb-2019'"
   ]
  },
  {
   "cell_type": "code",
   "execution_count": 2,
   "metadata": {},
   "outputs": [],
   "source": [
    "api_url = f'https://api.github.com/repos/{main_repo}/forks'"
   ]
  },
  {
   "cell_type": "code",
   "execution_count": 5,
   "metadata": {},
   "outputs": [],
   "source": [
    "response = requests.get(api_url)"
   ]
  },
  {
   "cell_type": "code",
   "execution_count": 6,
   "metadata": {},
   "outputs": [
    {
     "data": {
      "text/plain": [
       "200"
      ]
     },
     "execution_count": 6,
     "metadata": {},
     "output_type": "execute_result"
    }
   ],
   "source": [
    "response.status_code"
   ]
  },
  {
   "cell_type": "code",
   "execution_count": 17,
   "metadata": {},
   "outputs": [
    {
     "name": "stdout",
     "output_type": "stream",
     "text": [
      "[{'id': 561512398, 'node_id': 'R_kgDOIXf_zg', 'name': 'bcn-feb-2019', 'full_name': 'fgardete/bcn-feb-2019', 'private': False, 'owner': {'login': 'fgardete', 'id': 87324421, 'node_id': 'MDQ6VXNlcjg3MzI0NDIx', 'avatar_url': 'https://avatars.githubusercontent.com/u/87324421?v=4', 'gravatar_id': '', 'url': 'https://api.github.com/users/fgardete', 'html_url': 'https://github.com/fgardete', 'followers_url': 'https://api.github.com/users/fgardete/followers', 'following_url': 'https://api.github.com/users/fgardete/following{/other_user}', 'gists_url': 'https://api.github.com/users/fgardete/gists{/gist_id}', 'starred_url': 'https://api.github.com/users/fgardete/starred{/owner}{/repo}', 'subscriptions_url': 'https://api.github.com/users/fgardete/subscriptions', 'organizations_url': 'https://api.github.com/users/fgardete/orgs', 'repos_url': 'https://api.github.com/users/fgardete/repos', 'events_url': 'https://api.github.com/users/fgardete/events{/privacy}', 'received_events_url': 'https://api.github.com/users/fgardete/received_events', 'type': 'User', 'site_admin': False}, 'html_url': 'https://github.com/fgardete/bcn-feb-2019', 'description': None, 'fork': True, 'url': 'https://api.github.com/repos/fgardete/bcn-feb-2019', 'forks_url': 'https://api.github.com/repos/fgardete/bcn-feb-2019/forks', 'keys_url': 'https://api.github.com/repos/fgardete/bcn-feb-2019/keys{/key_id}', 'collaborators_url': 'https://api.github.com/repos/fgardete/bcn-feb-2019/collaborators{/collaborator}', 'teams_url': 'https://api.github.com/repos/fgardete/bcn-feb-2019/teams', 'hooks_url': 'https://api.github.com/repos/fgardete/bcn-feb-2019/hooks', 'issue_events_url': 'https://api.github.com/repos/fgardete/bcn-feb-2019/issues/events{/number}', 'events_url': 'https://api.github.com/repos/fgardete/bcn-feb-2019/events', 'assignees_url': 'https://api.github.com/repos/fgardete/bcn-feb-2019/assignees{/user}', 'branches_url': 'https://api.github.com/repos/fgardete/bcn-feb-2019/branches{/branch}', 'tags_url': 'https://api.github.com/repos/fgardete/bcn-feb-2019/tags', 'blobs_url': 'https://api.github.com/repos/fgardete/bcn-feb-2019/git/blobs{/sha}', 'git_tags_url': 'https://api.github.com/repos/fgardete/bcn-feb-2019/git/tags{/sha}', 'git_refs_url': 'https://api.github.com/repos/fgardete/bcn-feb-2019/git/refs{/sha}', 'trees_url': 'https://api.github.com/repos/fgardete/bcn-feb-2019/git/trees{/sha}', 'statuses_url': 'https://api.github.com/repos/fgardete/bcn-feb-2019/statuses/{sha}', 'languages_url': 'https://api.github.com/repos/fgardete/bcn-feb-2019/languages', 'stargazers_url': 'https://api.github.com/repos/fgardete/bcn-feb-2019/stargazers', 'contributors_url': 'https://api.github.com/repos/fgardete/bcn-feb-2019/contributors', 'subscribers_url': 'https://api.github.com/repos/fgardete/bcn-feb-2019/subscribers', 'subscription_url': 'https://api.github.com/repos/fgardete/bcn-feb-2019/subscription', 'commits_url': 'https://api.github.com/repos/fgardete/bcn-feb-2019/commits{/sha}', 'git_commits_url': 'https://api.github.com/repos/fgardete/bcn-feb-2019/git/commits{/sha}', 'comments_url': 'https://api.github.com/repos/fgardete/bcn-feb-2019/comments{/number}', 'issue_comment_url': 'https://api.github.com/repos/fgardete/bcn-feb-2019/issues/comments{/number}', 'contents_url': 'https://api.github.com/repos/fgardete/bcn-feb-2019/contents/{+path}', 'compare_url': 'https://api.github.com/repos/fgardete/bcn-feb-2019/compare/{base}...{head}', 'merges_url': 'https://api.github.com/repos/fgardete/bcn-feb-2019/merges', 'archive_url': 'https://api.github.com/repos/fgardete/bcn-feb-2019/{archive_format}{/ref}', 'downloads_url': 'https://api.github.com/repos/fgardete/bcn-feb-2019/downloads', 'issues_url': 'https://api.github.com/repos/fgardete/bcn-feb-2019/issues{/number}', 'pulls_url': 'https://api.github.com/repos/fgardete/bcn-feb-2019/pulls{/number}', 'milestones_url': 'https://api.github.com/repos/fgardete/bcn-feb-2019/milestones{/number}', 'notifications_url': 'https://api.github.com/repos/fgardete/bcn-feb-2019/notifications{?since,all,participating}', 'labels_url': 'https://api.github.com/repos/fgardete/bcn-feb-2019/labels{/name}', 'releases_url': 'https://api.github.com/repos/fgardete/bcn-feb-2019/releases{/id}', 'deployments_url': 'https://api.github.com/repos/fgardete/bcn-feb-2019/deployments', 'created_at': '2022-11-03T21:17:18Z', 'updated_at': '2019-05-23T15:59:32Z', 'pushed_at': '2019-02-18T22:33:04Z', 'git_url': 'git://github.com/fgardete/bcn-feb-2019.git', 'ssh_url': 'git@github.com:fgardete/bcn-feb-2019.git', 'clone_url': 'https://github.com/fgardete/bcn-feb-2019.git', 'svn_url': 'https://github.com/fgardete/bcn-feb-2019', 'homepage': None, 'size': 163749, 'stargazers_count': 0, 'watchers_count': 0, 'language': None, 'has_issues': False, 'has_projects': True, 'has_downloads': True, 'has_wiki': True, 'has_pages': False, 'has_discussions': False, 'forks_count': 0, 'mirror_url': None, 'archived': False, 'disabled': False, 'open_issues_count': 0, 'license': {'key': 'agpl-3.0', 'name': 'GNU Affero General Public License v3.0', 'spdx_id': 'AGPL-3.0', 'url': 'https://api.github.com/licenses/agpl-3.0', 'node_id': 'MDc6TGljZW5zZTE='}, 'allow_forking': True, 'is_template': False, 'web_commit_signoff_required': False, 'topics': [], 'visibility': 'public', 'forks': 0, 'open_issues': 0, 'watchers': 0, 'default_branch': 'master'}, {'id': 425239153, 'node_id': 'R_kgDOGViicQ', 'name': 'bcn-feb-2019', 'full_name': 'StanRocha/bcn-feb-2019', 'private': False, 'owner': {'login': 'StanRocha', 'id': 87268484, 'node_id': 'MDQ6VXNlcjg3MjY4NDg0', 'avatar_url': 'https://avatars.githubusercontent.com/u/87268484?v=4', 'gravatar_id': '', 'url': 'https://api.github.com/users/StanRocha', 'html_url': 'https://github.com/StanRocha', 'followers_url': 'https://api.github.com/users/StanRocha/followers', 'following_url': 'https://api.github.com/users/StanRocha/following{/other_user}', 'gists_url': 'https://api.github.com/users/StanRocha/gists{/gist_id}', 'starred_url': 'https://api.github.com/users/StanRocha/starred{/owner}{/repo}', 'subscriptions_url': 'https://api.github.com/users/StanRocha/subscriptions', 'organizations_url': 'https://api.github.com/users/StanRocha/orgs', 'repos_url': 'https://api.github.com/users/StanRocha/repos', 'events_url': 'https://api.github.com/users/StanRocha/events{/privacy}', 'received_events_url': 'https://api.github.com/users/StanRocha/received_events', 'type': 'User', 'site_admin': False}, 'html_url': 'https://github.com/StanRocha/bcn-feb-2019', 'description': None, 'fork': True, 'url': 'https://api.github.com/repos/StanRocha/bcn-feb-2019', 'forks_url': 'https://api.github.com/repos/StanRocha/bcn-feb-2019/forks', 'keys_url': 'https://api.github.com/repos/StanRocha/bcn-feb-2019/keys{/key_id}', 'collaborators_url': 'https://api.github.com/repos/StanRocha/bcn-feb-2019/collaborators{/collaborator}', 'teams_url': 'https://api.github.com/repos/StanRocha/bcn-feb-2019/teams', 'hooks_url': 'https://api.github.com/repos/StanRocha/bcn-feb-2019/hooks', 'issue_events_url': 'https://api.github.com/repos/StanRocha/bcn-feb-2019/issues/events{/number}', 'events_url': 'https://api.github.com/repos/StanRocha/bcn-feb-2019/events', 'assignees_url': 'https://api.github.com/repos/StanRocha/bcn-feb-2019/assignees{/user}', 'branches_url': 'https://api.github.com/repos/StanRocha/bcn-feb-2019/branches{/branch}', 'tags_url': 'https://api.github.com/repos/StanRocha/bcn-feb-2019/tags', 'blobs_url': 'https://api.github.com/repos/StanRocha/bcn-feb-2019/git/blobs{/sha}', 'git_tags_url': 'https://api.github.com/repos/StanRocha/bcn-feb-2019/git/tags{/sha}', 'git_refs_url': 'https://api.github.com/repos/StanRocha/bcn-feb-2019/git/refs{/sha}', 'trees_url': 'https://api.github.com/repos/StanRocha/bcn-feb-2019/git/trees{/sha}', 'statuses_url': 'https://api.github.com/repos/StanRocha/bcn-feb-2019/statuses/{sha}', 'languages_url': 'https://api.github.com/repos/StanRocha/bcn-feb-2019/languages', 'stargazers_url': 'https://api.github.com/repos/StanRocha/bcn-feb-2019/stargazers', 'contributors_url': 'https://api.github.com/repos/StanRocha/bcn-feb-2019/contributors', 'subscribers_url': 'https://api.github.com/repos/StanRocha/bcn-feb-2019/subscribers', 'subscription_url': 'https://api.github.com/repos/StanRocha/bcn-feb-2019/subscription', 'commits_url': 'https://api.github.com/repos/StanRocha/bcn-feb-2019/commits{/sha}', 'git_commits_url': 'https://api.github.com/repos/StanRocha/bcn-feb-2019/git/commits{/sha}', 'comments_url': 'https://api.github.com/repos/StanRocha/bcn-feb-2019/comments{/number}', 'issue_comment_url': 'https://api.github.com/repos/StanRocha/bcn-feb-2019/issues/comments{/number}', 'contents_url': 'https://api.github.com/repos/StanRocha/bcn-feb-2019/contents/{+path}', 'compare_url': 'https://api.github.com/repos/StanRocha/bcn-feb-2019/compare/{base}...{head}', 'merges_url': 'https://api.github.com/repos/StanRocha/bcn-feb-2019/merges', 'archive_url': 'https://api.github.com/repos/StanRocha/bcn-feb-2019/{archive_format}{/ref}', 'downloads_url': 'https://api.github.com/repos/StanRocha/bcn-feb-2019/downloads', 'issues_url': 'https://api.github.com/repos/StanRocha/bcn-feb-2019/issues{/number}', 'pulls_url': 'https://api.github.com/repos/StanRocha/bcn-feb-2019/pulls{/number}', 'milestones_url': 'https://api.github.com/repos/StanRocha/bcn-feb-2019/milestones{/number}', 'notifications_url': 'https://api.github.com/repos/StanRocha/bcn-feb-2019/notifications{?since,all,participating}', 'labels_url': 'https://api.github.com/repos/StanRocha/bcn-feb-2019/labels{/name}', 'releases_url': 'https://api.github.com/repos/StanRocha/bcn-feb-2019/releases{/id}', 'deployments_url': 'https://api.github.com/repos/StanRocha/bcn-feb-2019/deployments', 'created_at': '2021-11-06T12:31:11Z', 'updated_at': '2021-11-06T12:31:12Z', 'pushed_at': '2019-02-18T22:33:04Z', 'git_url': 'git://github.com/StanRocha/bcn-feb-2019.git', 'ssh_url': 'git@github.com:StanRocha/bcn-feb-2019.git', 'clone_url': 'https://github.com/StanRocha/bcn-feb-2019.git', 'svn_url': 'https://github.com/StanRocha/bcn-feb-2019', 'homepage': None, 'size': 163749, 'stargazers_count': 0, 'watchers_count': 0, 'language': None, 'has_issues': False, 'has_projects': True, 'has_downloads': True, 'has_wiki': True, 'has_pages': False, 'has_discussions': False, 'forks_count': 0, 'mirror_url': None, 'archived': False, 'disabled': False, 'open_issues_count': 0, 'license': {'key': 'agpl-3.0', 'name': 'GNU Affero General Public License v3.0', 'spdx_id': 'AGPL-3.0', 'url': 'https://api.github.com/licenses/agpl-3.0', 'node_id': 'MDc6TGljZW5zZTE='}, 'allow_forking': True, 'is_template': False, 'web_commit_signoff_required': False, 'topics': [], 'visibility': 'public', 'forks': 0, 'open_issues': 0, 'watchers': 0, 'default_branch': 'master'}, {'id': 332775885, 'node_id': 'MDEwOlJlcG9zaXRvcnkzMzI3NzU4ODU=', 'name': 'bcn-feb-2019', 'full_name': 'MRibas123/bcn-feb-2019', 'private': False, 'owner': {'login': 'MRibas123', 'id': 76017312, 'node_id': 'MDQ6VXNlcjc2MDE3MzEy', 'avatar_url': 'https://avatars.githubusercontent.com/u/76017312?v=4', 'gravatar_id': '', 'url': 'https://api.github.com/users/MRibas123', 'html_url': 'https://github.com/MRibas123', 'followers_url': 'https://api.github.com/users/MRibas123/followers', 'following_url': 'https://api.github.com/users/MRibas123/following{/other_user}', 'gists_url': 'https://api.github.com/users/MRibas123/gists{/gist_id}', 'starred_url': 'https://api.github.com/users/MRibas123/starred{/owner}{/repo}', 'subscriptions_url': 'https://api.github.com/users/MRibas123/subscriptions', 'organizations_url': 'https://api.github.com/users/MRibas123/orgs', 'repos_url': 'https://api.github.com/users/MRibas123/repos', 'events_url': 'https://api.github.com/users/MRibas123/events{/privacy}', 'received_events_url': 'https://api.github.com/users/MRibas123/received_events', 'type': 'User', 'site_admin': False}, 'html_url': 'https://github.com/MRibas123/bcn-feb-2019', 'description': None, 'fork': True, 'url': 'https://api.github.com/repos/MRibas123/bcn-feb-2019', 'forks_url': 'https://api.github.com/repos/MRibas123/bcn-feb-2019/forks', 'keys_url': 'https://api.github.com/repos/MRibas123/bcn-feb-2019/keys{/key_id}', 'collaborators_url': 'https://api.github.com/repos/MRibas123/bcn-feb-2019/collaborators{/collaborator}', 'teams_url': 'https://api.github.com/repos/MRibas123/bcn-feb-2019/teams', 'hooks_url': 'https://api.github.com/repos/MRibas123/bcn-feb-2019/hooks', 'issue_events_url': 'https://api.github.com/repos/MRibas123/bcn-feb-2019/issues/events{/number}', 'events_url': 'https://api.github.com/repos/MRibas123/bcn-feb-2019/events', 'assignees_url': 'https://api.github.com/repos/MRibas123/bcn-feb-2019/assignees{/user}', 'branches_url': 'https://api.github.com/repos/MRibas123/bcn-feb-2019/branches{/branch}', 'tags_url': 'https://api.github.com/repos/MRibas123/bcn-feb-2019/tags', 'blobs_url': 'https://api.github.com/repos/MRibas123/bcn-feb-2019/git/blobs{/sha}', 'git_tags_url': 'https://api.github.com/repos/MRibas123/bcn-feb-2019/git/tags{/sha}', 'git_refs_url': 'https://api.github.com/repos/MRibas123/bcn-feb-2019/git/refs{/sha}', 'trees_url': 'https://api.github.com/repos/MRibas123/bcn-feb-2019/git/trees{/sha}', 'statuses_url': 'https://api.github.com/repos/MRibas123/bcn-feb-2019/statuses/{sha}', 'languages_url': 'https://api.github.com/repos/MRibas123/bcn-feb-2019/languages', 'stargazers_url': 'https://api.github.com/repos/MRibas123/bcn-feb-2019/stargazers', 'contributors_url': 'https://api.github.com/repos/MRibas123/bcn-feb-2019/contributors', 'subscribers_url': 'https://api.github.com/repos/MRibas123/bcn-feb-2019/subscribers', 'subscription_url': 'https://api.github.com/repos/MRibas123/bcn-feb-2019/subscription', 'commits_url': 'https://api.github.com/repos/MRibas123/bcn-feb-2019/commits{/sha}', 'git_commits_url': 'https://api.github.com/repos/MRibas123/bcn-feb-2019/git/commits{/sha}', 'comments_url': 'https://api.github.com/repos/MRibas123/bcn-feb-2019/comments{/number}', 'issue_comment_url': 'https://api.github.com/repos/MRibas123/bcn-feb-2019/issues/comments{/number}', 'contents_url': 'https://api.github.com/repos/MRibas123/bcn-feb-2019/contents/{+path}', 'compare_url': 'https://api.github.com/repos/MRibas123/bcn-feb-2019/compare/{base}...{head}', 'merges_url': 'https://api.github.com/repos/MRibas123/bcn-feb-2019/merges', 'archive_url': 'https://api.github.com/repos/MRibas123/bcn-feb-2019/{archive_format}{/ref}', 'downloads_url': 'https://api.github.com/repos/MRibas123/bcn-feb-2019/downloads', 'issues_url': 'https://api.github.com/repos/MRibas123/bcn-feb-2019/issues{/number}', 'pulls_url': 'https://api.github.com/repos/MRibas123/bcn-feb-2019/pulls{/number}', 'milestones_url': 'https://api.github.com/repos/MRibas123/bcn-feb-2019/milestones{/number}', 'notifications_url': 'https://api.github.com/repos/MRibas123/bcn-feb-2019/notifications{?since,all,participating}', 'labels_url': 'https://api.github.com/repos/MRibas123/bcn-feb-2019/labels{/name}', 'releases_url': 'https://api.github.com/repos/MRibas123/bcn-feb-2019/releases{/id}', 'deployments_url': 'https://api.github.com/repos/MRibas123/bcn-feb-2019/deployments', 'created_at': '2021-01-25T14:35:31Z', 'updated_at': '2021-01-25T14:35:32Z', 'pushed_at': '2019-02-18T22:33:04Z', 'git_url': 'git://github.com/MRibas123/bcn-feb-2019.git', 'ssh_url': 'git@github.com:MRibas123/bcn-feb-2019.git', 'clone_url': 'https://github.com/MRibas123/bcn-feb-2019.git', 'svn_url': 'https://github.com/MRibas123/bcn-feb-2019', 'homepage': None, 'size': 163749, 'stargazers_count': 0, 'watchers_count': 0, 'language': None, 'has_issues': False, 'has_projects': True, 'has_downloads': True, 'has_wiki': True, 'has_pages': False, 'has_discussions': False, 'forks_count': 0, 'mirror_url': None, 'archived': False, 'disabled': False, 'open_issues_count': 0, 'license': {'key': 'agpl-3.0', 'name': 'GNU Affero General Public License v3.0', 'spdx_id': 'AGPL-3.0', 'url': 'https://api.github.com/licenses/agpl-3.0', 'node_id': 'MDc6TGljZW5zZTE='}, 'allow_forking': True, 'is_template': False, 'web_commit_signoff_required': False, 'topics': [], 'visibility': 'public', 'forks': 0, 'open_issues': 0, 'watchers': 0, 'default_branch': 'master'}, {'id': 319429421, 'node_id': 'MDEwOlJlcG9zaXRvcnkzMTk0Mjk0MjE=', 'name': 'bcn-feb-2019', 'full_name': 'MariaEstebanDA/bcn-feb-2019', 'private': False, 'owner': {'login': 'MariaEstebanDA', 'id': 72495380, 'node_id': 'MDQ6VXNlcjcyNDk1Mzgw', 'avatar_url': 'https://avatars.githubusercontent.com/u/72495380?v=4', 'gravatar_id': '', 'url': 'https://api.github.com/users/MariaEstebanDA', 'html_url': 'https://github.com/MariaEstebanDA', 'followers_url': 'https://api.github.com/users/MariaEstebanDA/followers', 'following_url': 'https://api.github.com/users/MariaEstebanDA/following{/other_user}', 'gists_url': 'https://api.github.com/users/MariaEstebanDA/gists{/gist_id}', 'starred_url': 'https://api.github.com/users/MariaEstebanDA/starred{/owner}{/repo}', 'subscriptions_url': 'https://api.github.com/users/MariaEstebanDA/subscriptions', 'organizations_url': 'https://api.github.com/users/MariaEstebanDA/orgs', 'repos_url': 'https://api.github.com/users/MariaEstebanDA/repos', 'events_url': 'https://api.github.com/users/MariaEstebanDA/events{/privacy}', 'received_events_url': 'https://api.github.com/users/MariaEstebanDA/received_events', 'type': 'User', 'site_admin': False}, 'html_url': 'https://github.com/MariaEstebanDA/bcn-feb-2019', 'description': None, 'fork': True, 'url': 'https://api.github.com/repos/MariaEstebanDA/bcn-feb-2019', 'forks_url': 'https://api.github.com/repos/MariaEstebanDA/bcn-feb-2019/forks', 'keys_url': 'https://api.github.com/repos/MariaEstebanDA/bcn-feb-2019/keys{/key_id}', 'collaborators_url': 'https://api.github.com/repos/MariaEstebanDA/bcn-feb-2019/collaborators{/collaborator}', 'teams_url': 'https://api.github.com/repos/MariaEstebanDA/bcn-feb-2019/teams', 'hooks_url': 'https://api.github.com/repos/MariaEstebanDA/bcn-feb-2019/hooks', 'issue_events_url': 'https://api.github.com/repos/MariaEstebanDA/bcn-feb-2019/issues/events{/number}', 'events_url': 'https://api.github.com/repos/MariaEstebanDA/bcn-feb-2019/events', 'assignees_url': 'https://api.github.com/repos/MariaEstebanDA/bcn-feb-2019/assignees{/user}', 'branches_url': 'https://api.github.com/repos/MariaEstebanDA/bcn-feb-2019/branches{/branch}', 'tags_url': 'https://api.github.com/repos/MariaEstebanDA/bcn-feb-2019/tags', 'blobs_url': 'https://api.github.com/repos/MariaEstebanDA/bcn-feb-2019/git/blobs{/sha}', 'git_tags_url': 'https://api.github.com/repos/MariaEstebanDA/bcn-feb-2019/git/tags{/sha}', 'git_refs_url': 'https://api.github.com/repos/MariaEstebanDA/bcn-feb-2019/git/refs{/sha}', 'trees_url': 'https://api.github.com/repos/MariaEstebanDA/bcn-feb-2019/git/trees{/sha}', 'statuses_url': 'https://api.github.com/repos/MariaEstebanDA/bcn-feb-2019/statuses/{sha}', 'languages_url': 'https://api.github.com/repos/MariaEstebanDA/bcn-feb-2019/languages', 'stargazers_url': 'https://api.github.com/repos/MariaEstebanDA/bcn-feb-2019/stargazers', 'contributors_url': 'https://api.github.com/repos/MariaEstebanDA/bcn-feb-2019/contributors', 'subscribers_url': 'https://api.github.com/repos/MariaEstebanDA/bcn-feb-2019/subscribers', 'subscription_url': 'https://api.github.com/repos/MariaEstebanDA/bcn-feb-2019/subscription', 'commits_url': 'https://api.github.com/repos/MariaEstebanDA/bcn-feb-2019/commits{/sha}', 'git_commits_url': 'https://api.github.com/repos/MariaEstebanDA/bcn-feb-2019/git/commits{/sha}', 'comments_url': 'https://api.github.com/repos/MariaEstebanDA/bcn-feb-2019/comments{/number}', 'issue_comment_url': 'https://api.github.com/repos/MariaEstebanDA/bcn-feb-2019/issues/comments{/number}', 'contents_url': 'https://api.github.com/repos/MariaEstebanDA/bcn-feb-2019/contents/{+path}', 'compare_url': 'https://api.github.com/repos/MariaEstebanDA/bcn-feb-2019/compare/{base}...{head}', 'merges_url': 'https://api.github.com/repos/MariaEstebanDA/bcn-feb-2019/merges', 'archive_url': 'https://api.github.com/repos/MariaEstebanDA/bcn-feb-2019/{archive_format}{/ref}', 'downloads_url': 'https://api.github.com/repos/MariaEstebanDA/bcn-feb-2019/downloads', 'issues_url': 'https://api.github.com/repos/MariaEstebanDA/bcn-feb-2019/issues{/number}', 'pulls_url': 'https://api.github.com/repos/MariaEstebanDA/bcn-feb-2019/pulls{/number}', 'milestones_url': 'https://api.github.com/repos/MariaEstebanDA/bcn-feb-2019/milestones{/number}', 'notifications_url': 'https://api.github.com/repos/MariaEstebanDA/bcn-feb-2019/notifications{?since,all,participating}', 'labels_url': 'https://api.github.com/repos/MariaEstebanDA/bcn-feb-2019/labels{/name}', 'releases_url': 'https://api.github.com/repos/MariaEstebanDA/bcn-feb-2019/releases{/id}', 'deployments_url': 'https://api.github.com/repos/MariaEstebanDA/bcn-feb-2019/deployments', 'created_at': '2020-12-07T19:57:10Z', 'updated_at': '2020-12-07T19:57:12Z', 'pushed_at': '2019-02-18T22:33:04Z', 'git_url': 'git://github.com/MariaEstebanDA/bcn-feb-2019.git', 'ssh_url': 'git@github.com:MariaEstebanDA/bcn-feb-2019.git', 'clone_url': 'https://github.com/MariaEstebanDA/bcn-feb-2019.git', 'svn_url': 'https://github.com/MariaEstebanDA/bcn-feb-2019', 'homepage': None, 'size': 163749, 'stargazers_count': 0, 'watchers_count': 0, 'language': None, 'has_issues': False, 'has_projects': True, 'has_downloads': True, 'has_wiki': True, 'has_pages': False, 'has_discussions': False, 'forks_count': 0, 'mirror_url': None, 'archived': False, 'disabled': False, 'open_issues_count': 0, 'license': {'key': 'agpl-3.0', 'name': 'GNU Affero General Public License v3.0', 'spdx_id': 'AGPL-3.0', 'url': 'https://api.github.com/licenses/agpl-3.0', 'node_id': 'MDc6TGljZW5zZTE='}, 'allow_forking': True, 'is_template': False, 'web_commit_signoff_required': False, 'topics': [], 'visibility': 'public', 'forks': 0, 'open_issues': 0, 'watchers': 0, 'default_branch': 'master'}, {'id': 318578020, 'node_id': 'MDEwOlJlcG9zaXRvcnkzMTg1NzgwMjA=', 'name': 'bcn-feb-2019', 'full_name': 'je-nakajima/bcn-feb-2019', 'private': False, 'owner': {'login': 'je-nakajima', 'id': 71846807, 'node_id': 'MDQ6VXNlcjcxODQ2ODA3', 'avatar_url': 'https://avatars.githubusercontent.com/u/71846807?v=4', 'gravatar_id': '', 'url': 'https://api.github.com/users/je-nakajima', 'html_url': 'https://github.com/je-nakajima', 'followers_url': 'https://api.github.com/users/je-nakajima/followers', 'following_url': 'https://api.github.com/users/je-nakajima/following{/other_user}', 'gists_url': 'https://api.github.com/users/je-nakajima/gists{/gist_id}', 'starred_url': 'https://api.github.com/users/je-nakajima/starred{/owner}{/repo}', 'subscriptions_url': 'https://api.github.com/users/je-nakajima/subscriptions', 'organizations_url': 'https://api.github.com/users/je-nakajima/orgs', 'repos_url': 'https://api.github.com/users/je-nakajima/repos', 'events_url': 'https://api.github.com/users/je-nakajima/events{/privacy}', 'received_events_url': 'https://api.github.com/users/je-nakajima/received_events', 'type': 'User', 'site_admin': False}, 'html_url': 'https://github.com/je-nakajima/bcn-feb-2019', 'description': None, 'fork': True, 'url': 'https://api.github.com/repos/je-nakajima/bcn-feb-2019', 'forks_url': 'https://api.github.com/repos/je-nakajima/bcn-feb-2019/forks', 'keys_url': 'https://api.github.com/repos/je-nakajima/bcn-feb-2019/keys{/key_id}', 'collaborators_url': 'https://api.github.com/repos/je-nakajima/bcn-feb-2019/collaborators{/collaborator}', 'teams_url': 'https://api.github.com/repos/je-nakajima/bcn-feb-2019/teams', 'hooks_url': 'https://api.github.com/repos/je-nakajima/bcn-feb-2019/hooks', 'issue_events_url': 'https://api.github.com/repos/je-nakajima/bcn-feb-2019/issues/events{/number}', 'events_url': 'https://api.github.com/repos/je-nakajima/bcn-feb-2019/events', 'assignees_url': 'https://api.github.com/repos/je-nakajima/bcn-feb-2019/assignees{/user}', 'branches_url': 'https://api.github.com/repos/je-nakajima/bcn-feb-2019/branches{/branch}', 'tags_url': 'https://api.github.com/repos/je-nakajima/bcn-feb-2019/tags', 'blobs_url': 'https://api.github.com/repos/je-nakajima/bcn-feb-2019/git/blobs{/sha}', 'git_tags_url': 'https://api.github.com/repos/je-nakajima/bcn-feb-2019/git/tags{/sha}', 'git_refs_url': 'https://api.github.com/repos/je-nakajima/bcn-feb-2019/git/refs{/sha}', 'trees_url': 'https://api.github.com/repos/je-nakajima/bcn-feb-2019/git/trees{/sha}', 'statuses_url': 'https://api.github.com/repos/je-nakajima/bcn-feb-2019/statuses/{sha}', 'languages_url': 'https://api.github.com/repos/je-nakajima/bcn-feb-2019/languages', 'stargazers_url': 'https://api.github.com/repos/je-nakajima/bcn-feb-2019/stargazers', 'contributors_url': 'https://api.github.com/repos/je-nakajima/bcn-feb-2019/contributors', 'subscribers_url': 'https://api.github.com/repos/je-nakajima/bcn-feb-2019/subscribers', 'subscription_url': 'https://api.github.com/repos/je-nakajima/bcn-feb-2019/subscription', 'commits_url': 'https://api.github.com/repos/je-nakajima/bcn-feb-2019/commits{/sha}', 'git_commits_url': 'https://api.github.com/repos/je-nakajima/bcn-feb-2019/git/commits{/sha}', 'comments_url': 'https://api.github.com/repos/je-nakajima/bcn-feb-2019/comments{/number}', 'issue_comment_url': 'https://api.github.com/repos/je-nakajima/bcn-feb-2019/issues/comments{/number}', 'contents_url': 'https://api.github.com/repos/je-nakajima/bcn-feb-2019/contents/{+path}', 'compare_url': 'https://api.github.com/repos/je-nakajima/bcn-feb-2019/compare/{base}...{head}', 'merges_url': 'https://api.github.com/repos/je-nakajima/bcn-feb-2019/merges', 'archive_url': 'https://api.github.com/repos/je-nakajima/bcn-feb-2019/{archive_format}{/ref}', 'downloads_url': 'https://api.github.com/repos/je-nakajima/bcn-feb-2019/downloads', 'issues_url': 'https://api.github.com/repos/je-nakajima/bcn-feb-2019/issues{/number}', 'pulls_url': 'https://api.github.com/repos/je-nakajima/bcn-feb-2019/pulls{/number}', 'milestones_url': 'https://api.github.com/repos/je-nakajima/bcn-feb-2019/milestones{/number}', 'notifications_url': 'https://api.github.com/repos/je-nakajima/bcn-feb-2019/notifications{?since,all,participating}', 'labels_url': 'https://api.github.com/repos/je-nakajima/bcn-feb-2019/labels{/name}', 'releases_url': 'https://api.github.com/repos/je-nakajima/bcn-feb-2019/releases{/id}', 'deployments_url': 'https://api.github.com/repos/je-nakajima/bcn-feb-2019/deployments', 'created_at': '2020-12-04T16:46:57Z', 'updated_at': '2020-12-04T16:46:59Z', 'pushed_at': '2019-02-18T22:33:04Z', 'git_url': 'git://github.com/je-nakajima/bcn-feb-2019.git', 'ssh_url': 'git@github.com:je-nakajima/bcn-feb-2019.git', 'clone_url': 'https://github.com/je-nakajima/bcn-feb-2019.git', 'svn_url': 'https://github.com/je-nakajima/bcn-feb-2019', 'homepage': None, 'size': 163749, 'stargazers_count': 0, 'watchers_count': 0, 'language': None, 'has_issues': False, 'has_projects': True, 'has_downloads': True, 'has_wiki': True, 'has_pages': False, 'has_discussions': False, 'forks_count': 0, 'mirror_url': None, 'archived': False, 'disabled': False, 'open_issues_count': 0, 'license': {'key': 'agpl-3.0', 'name': 'GNU Affero General Public License v3.0', 'spdx_id': 'AGPL-3.0', 'url': 'https://api.github.com/licenses/agpl-3.0', 'node_id': 'MDc6TGljZW5zZTE='}, 'allow_forking': True, 'is_template': False, 'web_commit_signoff_required': False, 'topics': [], 'visibility': 'public', 'forks': 0, 'open_issues': 0, 'watchers': 0, 'default_branch': 'master'}, {'id': 278336683, 'node_id': 'MDEwOlJlcG9zaXRvcnkyNzgzMzY2ODM=', 'name': 'bcn-feb-2019', 'full_name': 'franbaldi/bcn-feb-2019', 'private': False, 'owner': {'login': 'franbaldi', 'id': 25199469, 'node_id': 'MDQ6VXNlcjI1MTk5NDY5', 'avatar_url': 'https://avatars.githubusercontent.com/u/25199469?v=4', 'gravatar_id': '', 'url': 'https://api.github.com/users/franbaldi', 'html_url': 'https://github.com/franbaldi', 'followers_url': 'https://api.github.com/users/franbaldi/followers', 'following_url': 'https://api.github.com/users/franbaldi/following{/other_user}', 'gists_url': 'https://api.github.com/users/franbaldi/gists{/gist_id}', 'starred_url': 'https://api.github.com/users/franbaldi/starred{/owner}{/repo}', 'subscriptions_url': 'https://api.github.com/users/franbaldi/subscriptions', 'organizations_url': 'https://api.github.com/users/franbaldi/orgs', 'repos_url': 'https://api.github.com/users/franbaldi/repos', 'events_url': 'https://api.github.com/users/franbaldi/events{/privacy}', 'received_events_url': 'https://api.github.com/users/franbaldi/received_events', 'type': 'User', 'site_admin': False}, 'html_url': 'https://github.com/franbaldi/bcn-feb-2019', 'description': None, 'fork': True, 'url': 'https://api.github.com/repos/franbaldi/bcn-feb-2019', 'forks_url': 'https://api.github.com/repos/franbaldi/bcn-feb-2019/forks', 'keys_url': 'https://api.github.com/repos/franbaldi/bcn-feb-2019/keys{/key_id}', 'collaborators_url': 'https://api.github.com/repos/franbaldi/bcn-feb-2019/collaborators{/collaborator}', 'teams_url': 'https://api.github.com/repos/franbaldi/bcn-feb-2019/teams', 'hooks_url': 'https://api.github.com/repos/franbaldi/bcn-feb-2019/hooks', 'issue_events_url': 'https://api.github.com/repos/franbaldi/bcn-feb-2019/issues/events{/number}', 'events_url': 'https://api.github.com/repos/franbaldi/bcn-feb-2019/events', 'assignees_url': 'https://api.github.com/repos/franbaldi/bcn-feb-2019/assignees{/user}', 'branches_url': 'https://api.github.com/repos/franbaldi/bcn-feb-2019/branches{/branch}', 'tags_url': 'https://api.github.com/repos/franbaldi/bcn-feb-2019/tags', 'blobs_url': 'https://api.github.com/repos/franbaldi/bcn-feb-2019/git/blobs{/sha}', 'git_tags_url': 'https://api.github.com/repos/franbaldi/bcn-feb-2019/git/tags{/sha}', 'git_refs_url': 'https://api.github.com/repos/franbaldi/bcn-feb-2019/git/refs{/sha}', 'trees_url': 'https://api.github.com/repos/franbaldi/bcn-feb-2019/git/trees{/sha}', 'statuses_url': 'https://api.github.com/repos/franbaldi/bcn-feb-2019/statuses/{sha}', 'languages_url': 'https://api.github.com/repos/franbaldi/bcn-feb-2019/languages', 'stargazers_url': 'https://api.github.com/repos/franbaldi/bcn-feb-2019/stargazers', 'contributors_url': 'https://api.github.com/repos/franbaldi/bcn-feb-2019/contributors', 'subscribers_url': 'https://api.github.com/repos/franbaldi/bcn-feb-2019/subscribers', 'subscription_url': 'https://api.github.com/repos/franbaldi/bcn-feb-2019/subscription', 'commits_url': 'https://api.github.com/repos/franbaldi/bcn-feb-2019/commits{/sha}', 'git_commits_url': 'https://api.github.com/repos/franbaldi/bcn-feb-2019/git/commits{/sha}', 'comments_url': 'https://api.github.com/repos/franbaldi/bcn-feb-2019/comments{/number}', 'issue_comment_url': 'https://api.github.com/repos/franbaldi/bcn-feb-2019/issues/comments{/number}', 'contents_url': 'https://api.github.com/repos/franbaldi/bcn-feb-2019/contents/{+path}', 'compare_url': 'https://api.github.com/repos/franbaldi/bcn-feb-2019/compare/{base}...{head}', 'merges_url': 'https://api.github.com/repos/franbaldi/bcn-feb-2019/merges', 'archive_url': 'https://api.github.com/repos/franbaldi/bcn-feb-2019/{archive_format}{/ref}', 'downloads_url': 'https://api.github.com/repos/franbaldi/bcn-feb-2019/downloads', 'issues_url': 'https://api.github.com/repos/franbaldi/bcn-feb-2019/issues{/number}', 'pulls_url': 'https://api.github.com/repos/franbaldi/bcn-feb-2019/pulls{/number}', 'milestones_url': 'https://api.github.com/repos/franbaldi/bcn-feb-2019/milestones{/number}', 'notifications_url': 'https://api.github.com/repos/franbaldi/bcn-feb-2019/notifications{?since,all,participating}', 'labels_url': 'https://api.github.com/repos/franbaldi/bcn-feb-2019/labels{/name}', 'releases_url': 'https://api.github.com/repos/franbaldi/bcn-feb-2019/releases{/id}', 'deployments_url': 'https://api.github.com/repos/franbaldi/bcn-feb-2019/deployments', 'created_at': '2020-07-09T10:41:19Z', 'updated_at': '2020-07-09T10:41:20Z', 'pushed_at': '2019-02-18T22:33:04Z', 'git_url': 'git://github.com/franbaldi/bcn-feb-2019.git', 'ssh_url': 'git@github.com:franbaldi/bcn-feb-2019.git', 'clone_url': 'https://github.com/franbaldi/bcn-feb-2019.git', 'svn_url': 'https://github.com/franbaldi/bcn-feb-2019', 'homepage': None, 'size': 163749, 'stargazers_count': 0, 'watchers_count': 0, 'language': None, 'has_issues': False, 'has_projects': True, 'has_downloads': True, 'has_wiki': True, 'has_pages': False, 'has_discussions': False, 'forks_count': 0, 'mirror_url': None, 'archived': False, 'disabled': False, 'open_issues_count': 0, 'license': {'key': 'agpl-3.0', 'name': 'GNU Affero General Public License v3.0', 'spdx_id': 'AGPL-3.0', 'url': 'https://api.github.com/licenses/agpl-3.0', 'node_id': 'MDc6TGljZW5zZTE='}, 'allow_forking': True, 'is_template': False, 'web_commit_signoff_required': False, 'topics': [], 'visibility': 'public', 'forks': 0, 'open_issues': 0, 'watchers': 0, 'default_branch': 'master'}, {'id': 276718167, 'node_id': 'MDEwOlJlcG9zaXRvcnkyNzY3MTgxNjc=', 'name': 'bcn-feb-2019', 'full_name': 'brunacarolino/bcn-feb-2019', 'private': False, 'owner': {'login': 'brunacarolino', 'id': 67610079, 'node_id': 'MDQ6VXNlcjY3NjEwMDc5', 'avatar_url': 'https://avatars.githubusercontent.com/u/67610079?v=4', 'gravatar_id': '', 'url': 'https://api.github.com/users/brunacarolino', 'html_url': 'https://github.com/brunacarolino', 'followers_url': 'https://api.github.com/users/brunacarolino/followers', 'following_url': 'https://api.github.com/users/brunacarolino/following{/other_user}', 'gists_url': 'https://api.github.com/users/brunacarolino/gists{/gist_id}', 'starred_url': 'https://api.github.com/users/brunacarolino/starred{/owner}{/repo}', 'subscriptions_url': 'https://api.github.com/users/brunacarolino/subscriptions', 'organizations_url': 'https://api.github.com/users/brunacarolino/orgs', 'repos_url': 'https://api.github.com/users/brunacarolino/repos', 'events_url': 'https://api.github.com/users/brunacarolino/events{/privacy}', 'received_events_url': 'https://api.github.com/users/brunacarolino/received_events', 'type': 'User', 'site_admin': False}, 'html_url': 'https://github.com/brunacarolino/bcn-feb-2019', 'description': None, 'fork': True, 'url': 'https://api.github.com/repos/brunacarolino/bcn-feb-2019', 'forks_url': 'https://api.github.com/repos/brunacarolino/bcn-feb-2019/forks', 'keys_url': 'https://api.github.com/repos/brunacarolino/bcn-feb-2019/keys{/key_id}', 'collaborators_url': 'https://api.github.com/repos/brunacarolino/bcn-feb-2019/collaborators{/collaborator}', 'teams_url': 'https://api.github.com/repos/brunacarolino/bcn-feb-2019/teams', 'hooks_url': 'https://api.github.com/repos/brunacarolino/bcn-feb-2019/hooks', 'issue_events_url': 'https://api.github.com/repos/brunacarolino/bcn-feb-2019/issues/events{/number}', 'events_url': 'https://api.github.com/repos/brunacarolino/bcn-feb-2019/events', 'assignees_url': 'https://api.github.com/repos/brunacarolino/bcn-feb-2019/assignees{/user}', 'branches_url': 'https://api.github.com/repos/brunacarolino/bcn-feb-2019/branches{/branch}', 'tags_url': 'https://api.github.com/repos/brunacarolino/bcn-feb-2019/tags', 'blobs_url': 'https://api.github.com/repos/brunacarolino/bcn-feb-2019/git/blobs{/sha}', 'git_tags_url': 'https://api.github.com/repos/brunacarolino/bcn-feb-2019/git/tags{/sha}', 'git_refs_url': 'https://api.github.com/repos/brunacarolino/bcn-feb-2019/git/refs{/sha}', 'trees_url': 'https://api.github.com/repos/brunacarolino/bcn-feb-2019/git/trees{/sha}', 'statuses_url': 'https://api.github.com/repos/brunacarolino/bcn-feb-2019/statuses/{sha}', 'languages_url': 'https://api.github.com/repos/brunacarolino/bcn-feb-2019/languages', 'stargazers_url': 'https://api.github.com/repos/brunacarolino/bcn-feb-2019/stargazers', 'contributors_url': 'https://api.github.com/repos/brunacarolino/bcn-feb-2019/contributors', 'subscribers_url': 'https://api.github.com/repos/brunacarolino/bcn-feb-2019/subscribers', 'subscription_url': 'https://api.github.com/repos/brunacarolino/bcn-feb-2019/subscription', 'commits_url': 'https://api.github.com/repos/brunacarolino/bcn-feb-2019/commits{/sha}', 'git_commits_url': 'https://api.github.com/repos/brunacarolino/bcn-feb-2019/git/commits{/sha}', 'comments_url': 'https://api.github.com/repos/brunacarolino/bcn-feb-2019/comments{/number}', 'issue_comment_url': 'https://api.github.com/repos/brunacarolino/bcn-feb-2019/issues/comments{/number}', 'contents_url': 'https://api.github.com/repos/brunacarolino/bcn-feb-2019/contents/{+path}', 'compare_url': 'https://api.github.com/repos/brunacarolino/bcn-feb-2019/compare/{base}...{head}', 'merges_url': 'https://api.github.com/repos/brunacarolino/bcn-feb-2019/merges', 'archive_url': 'https://api.github.com/repos/brunacarolino/bcn-feb-2019/{archive_format}{/ref}', 'downloads_url': 'https://api.github.com/repos/brunacarolino/bcn-feb-2019/downloads', 'issues_url': 'https://api.github.com/repos/brunacarolino/bcn-feb-2019/issues{/number}', 'pulls_url': 'https://api.github.com/repos/brunacarolino/bcn-feb-2019/pulls{/number}', 'milestones_url': 'https://api.github.com/repos/brunacarolino/bcn-feb-2019/milestones{/number}', 'notifications_url': 'https://api.github.com/repos/brunacarolino/bcn-feb-2019/notifications{?since,all,participating}', 'labels_url': 'https://api.github.com/repos/brunacarolino/bcn-feb-2019/labels{/name}', 'releases_url': 'https://api.github.com/repos/brunacarolino/bcn-feb-2019/releases{/id}', 'deployments_url': 'https://api.github.com/repos/brunacarolino/bcn-feb-2019/deployments', 'created_at': '2020-07-02T18:24:59Z', 'updated_at': '2020-07-02T18:53:08Z', 'pushed_at': '2020-07-02T18:53:01Z', 'git_url': 'git://github.com/brunacarolino/bcn-feb-2019.git', 'ssh_url': 'git@github.com:brunacarolino/bcn-feb-2019.git', 'clone_url': 'https://github.com/brunacarolino/bcn-feb-2019.git', 'svn_url': 'https://github.com/brunacarolino/bcn-feb-2019', 'homepage': None, 'size': 163750, 'stargazers_count': 0, 'watchers_count': 0, 'language': 'Jupyter Notebook', 'has_issues': False, 'has_projects': True, 'has_downloads': True, 'has_wiki': True, 'has_pages': False, 'has_discussions': False, 'forks_count': 0, 'mirror_url': None, 'archived': False, 'disabled': False, 'open_issues_count': 0, 'license': {'key': 'agpl-3.0', 'name': 'GNU Affero General Public License v3.0', 'spdx_id': 'AGPL-3.0', 'url': 'https://api.github.com/licenses/agpl-3.0', 'node_id': 'MDc6TGljZW5zZTE='}, 'allow_forking': True, 'is_template': False, 'web_commit_signoff_required': False, 'topics': [], 'visibility': 'public', 'forks': 0, 'open_issues': 0, 'watchers': 0, 'default_branch': 'master'}]\n"
     ]
    }
   ],
   "source": [
    "print(forks)"
   ]
  },
  {
   "cell_type": "code",
   "execution_count": 13,
   "metadata": {},
   "outputs": [
    {
     "data": {
      "text/plain": [
       "['Python', 'HTML', 'Jupyter Notebook']"
      ]
     },
     "execution_count": 13,
     "metadata": {},
     "output_type": "execute_result"
    }
   ],
   "source": [
    "forks = response.json()\n",
    "languages_set = set()\n",
    "\n",
    "for fork in forks:\n",
    "    languages_url = fork['languages_url']\n",
    "    languages_response = requests.get(languages_url)\n",
    "    languages_data = languages_response.json()\n",
    "    languages_list = list(languages_data.keys())\n",
    "    languages_set.update(languages_list)\n",
    "\n",
    "languages = list(languages_set)\n",
    "\n",
    "languages"
   ]
  },
  {
   "cell_type": "markdown",
   "metadata": {},
   "source": [
    "Challenge 2"
   ]
  },
  {
   "cell_type": "code",
   "execution_count": 82,
   "metadata": {},
   "outputs": [],
   "source": [
    "main_repo_2 = 'ta-data-pt-rmt/lab-mysql-first-queries'"
   ]
  },
  {
   "cell_type": "code",
   "execution_count": 88,
   "metadata": {},
   "outputs": [],
   "source": [
    "three_weeks_ago = (datetime.now() - timedelta(weeks=3)).isoformat()"
   ]
  },
  {
   "cell_type": "code",
   "execution_count": 89,
   "metadata": {},
   "outputs": [],
   "source": [
    "api_url_2 = f'https://api.github.com/repos/{main_repo_2}/commits'\n",
    "params = {'since': three_weeks_ago}"
   ]
  },
  {
   "cell_type": "code",
   "execution_count": 90,
   "metadata": {},
   "outputs": [],
   "source": [
    "response = requests.get(api_url_2, params=params)"
   ]
  },
  {
   "cell_type": "code",
   "execution_count": 91,
   "metadata": {},
   "outputs": [
    {
     "data": {
      "text/plain": [
       "403"
      ]
     },
     "execution_count": 91,
     "metadata": {},
     "output_type": "execute_result"
    }
   ],
   "source": [
    "response.status_code"
   ]
  },
  {
   "cell_type": "code",
   "execution_count": 92,
   "metadata": {},
   "outputs": [
    {
     "data": {
      "text/plain": [
       "2"
      ]
     },
     "execution_count": 92,
     "metadata": {},
     "output_type": "execute_result"
    }
   ],
   "source": [
    "commit_data = response.json()\n",
    "commit_count = len(commit_data)\n",
    "\n",
    "commit_count"
   ]
  }
 ],
 "metadata": {
  "kernelspec": {
   "display_name": "Python 3",
   "language": "python",
   "name": "python3"
  },
  "language_info": {
   "codemirror_mode": {
    "name": "ipython",
    "version": 3
   },
   "file_extension": ".py",
   "mimetype": "text/x-python",
   "name": "python",
   "nbconvert_exporter": "python",
   "pygments_lexer": "ipython3",
   "version": "3.11.5"
  },
  "orig_nbformat": 4
 },
 "nbformat": 4,
 "nbformat_minor": 2
}
